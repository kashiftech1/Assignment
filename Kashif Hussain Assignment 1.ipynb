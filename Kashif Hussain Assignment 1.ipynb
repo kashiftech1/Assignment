{
 "cells": [
  {
   "cell_type": "markdown",
   "metadata": {},
   "source": [
    "1) A company decided to give bonus of 5% to employee if his/her year of service is more than 5 years.\n",
    "Ask user for their salary and year of service and print the net bonus amount."
   ]
  },
  {
   "cell_type": "code",
   "execution_count": 6,
   "metadata": {},
   "outputs": [
    {
     "name": "stdout",
     "output_type": "stream",
     "text": [
      "Enter Your Salary:50000\n",
      "Enter Year of Service:6\n",
      " 2500.0 Net Bonus Amount\n"
     ]
    }
   ],
   "source": [
    "Salary = int(input (\"Enter Your Salary:\"))\n",
    "Service = int(input(\"Enter Year of Service:\"))\n",
    "\n",
    "if Service>5:\n",
    "    bonus = Salary * 5/100\n",
    "    print(f\" {bonus} Net Bonus Amount\")\n",
    "else:\n",
    "    print (\"Yor are not eligible for bonus\")"
   ]
  },
  {
   "cell_type": "markdown",
   "metadata": {},
   "source": [
    "\n",
    "2) Write a program to check whether a person is eligible for voting or not. (accept age from user) if age is greater than 17 eligible otherwise not eligible"
   ]
  },
  {
   "cell_type": "code",
   "execution_count": 50,
   "metadata": {},
   "outputs": [
    {
     "name": "stdout",
     "output_type": "stream",
     "text": [
      "Enter Your Age:10\n",
      "Not Eligible for Voting\n"
     ]
    }
   ],
   "source": [
    "Age = int (input (\"Enter Your Age:\"))\n",
    "\n",
    "if Age>17:\n",
    "    print (\"Eligible for Voting\")\n",
    "    \n",
    "else:\n",
    "    print (\"Not Eligible for Voting\")\n"
   ]
  },
  {
   "cell_type": "markdown",
   "metadata": {},
   "source": [
    "\n",
    "3) Write a program to check whether a number entered by user is even or odd."
   ]
  },
  {
   "cell_type": "code",
   "execution_count": 27,
   "metadata": {},
   "outputs": [
    {
     "name": "stdout",
     "output_type": "stream",
     "text": [
      "Enter Number:1000\n",
      "Number is Even\n"
     ]
    }
   ],
   "source": [
    "Number = float (input (\"Enter Number:\"))\n",
    "\n",
    "if Number%2==0:\n",
    "    print (\"Number is Even\")\n",
    "else:\n",
    "    print (\"Number is Odd\")"
   ]
  },
  {
   "cell_type": "markdown",
   "metadata": {},
   "source": [
    "4) Write a program to check whether a number is divisible by 7 or not.Show Answer"
   ]
  },
  {
   "cell_type": "code",
   "execution_count": 48,
   "metadata": {},
   "outputs": [
    {
     "name": "stdout",
     "output_type": "stream",
     "text": [
      "Enter the number:49\n",
      "49 is divisble.\n"
     ]
    }
   ],
   "source": [
    "Number = int (input(\"Enter the number:\"))\n",
    "\n",
    "if Number%7==0:\n",
    "    print(Number, \"is divisble.\")\n",
    "else:\n",
    "    print(Number, \"is not divisble.\")"
   ]
  },
  {
   "cell_type": "markdown",
   "metadata": {},
   "source": [
    "5) Write a program to display \n",
    "\"Hello\" if a number entered by user is a multiple of five , otherwise print \"Bye\"."
   ]
  },
  {
   "cell_type": "code",
   "execution_count": 58,
   "metadata": {},
   "outputs": [
    {
     "name": "stdout",
     "output_type": "stream",
     "text": [
      "Enter the number:50\n",
      "Hello\n"
     ]
    }
   ],
   "source": [
    "Number = int (input(\"Enter the number:\"))\n",
    "\n",
    "if Number%5==0:\n",
    "    print(\"Hello\")\n",
    "else:\n",
    "    print(\"Bye\")"
   ]
  },
  {
   "cell_type": "markdown",
   "metadata": {},
   "source": [
    "6. Write a program to display the last digit of a number.\n"
   ]
  },
  {
   "cell_type": "code",
   "execution_count": 65,
   "metadata": {},
   "outputs": [
    {
     "name": "stdout",
     "output_type": "stream",
     "text": [
      "Enter the number:101010101\n",
      "1\n"
     ]
    }
   ],
   "source": [
    "Number = int (input(\"Enter the number:\"))\n",
    "print(Number%10)"
   ]
  },
  {
   "cell_type": "markdown",
   "metadata": {},
   "source": [
    "7. Write a program to check whether the last digit of a number( entered by user ) is \n",
    "divisible by 3 or not."
   ]
  },
  {
   "cell_type": "code",
   "execution_count": 77,
   "metadata": {},
   "outputs": [
    {
     "name": "stdout",
     "output_type": "stream",
     "text": [
      "Enter the number:123456\n",
      "6 it is Divisibe\n"
     ]
    }
   ],
   "source": [
    "Number = int (input(\"Enter the number:\"))\n",
    "N_Number = Number%10\n",
    "Divisible = N_Number%3\n",
    "\n",
    "if Divisible==0:\n",
    "    print(N_Number, \"it is Divisibe\")\n",
    "    \n",
    "else: \n",
    "    print(N_Number, \"Not Divisble\")"
   ]
  },
  {
   "cell_type": "markdown",
   "metadata": {},
   "source": [
    "8. Take values of length and breadth of a rectangle from user and print if it is square or rectangle."
   ]
  },
  {
   "cell_type": "code",
   "execution_count": 82,
   "metadata": {},
   "outputs": [
    {
     "name": "stdout",
     "output_type": "stream",
     "text": [
      "Enter the Value of Lenght:30\n",
      "Enter the Value of Breadth:40\n",
      "It is Rectangle\n"
     ]
    }
   ],
   "source": [
    "Length = float (input(\"Enter the Value of Lenght:\"))\n",
    "Breadth = float (input(\"Enter the Value of Breadth:\"))\n",
    "\n",
    "if Length == Breadth:\n",
    "    print (\"It is Square\")\n",
    "    \n",
    "else:\n",
    "    print (\"It is Rectangle\")\n"
   ]
  },
  {
   "cell_type": "markdown",
   "metadata": {},
   "source": [
    "9. Take two int values from user and print greatest among them."
   ]
  },
  {
   "cell_type": "code",
   "execution_count": 94,
   "metadata": {},
   "outputs": [
    {
     "name": "stdout",
     "output_type": "stream",
     "text": [
      "Enter the First Num:25\n",
      "Enter the Sec Num:25\n",
      "Both are same\n"
     ]
    }
   ],
   "source": [
    "Int_1 = int (input(\"Enter the First Num:\"))\n",
    "Int_2 = int (input(\"Enter the Sec Num:\"))\n",
    "\n",
    "if Int_1>Int_2:\n",
    "    print (Int_1, \"Gretest\")\n",
    "\n",
    "elif Int_1<Int_2:\n",
    "    print (Int_2, \"Gretest\")\n",
    "    \n",
    "else:\n",
    "    print(\"Both are same\")"
   ]
  },
  {
   "cell_type": "markdown",
   "metadata": {},
   "source": [
    "10) A shop will give discount of 10% if the cost of purchased quantity is more than 1000.\n",
    "Ask user for quantity\n",
    "Suppose, one unit will cost 100.\n",
    "Judge and print total cost for user."
   ]
  },
  {
   "cell_type": "code",
   "execution_count": 1,
   "metadata": {},
   "outputs": [
    {
     "name": "stdout",
     "output_type": "stream",
     "text": [
      "Enter Number of Quantity:1000\n",
      "Total Cost 90000.0\n"
     ]
    }
   ],
   "source": [
    "Quantity = int (input (\"Enter Number of Quantity:\"))\n",
    "\n",
    "if Quantity*100>1000:\n",
    "    print (\"Total Cost\",(Quantity*100)-(.1*Quantity*100))\n",
    "    \n",
    "else:\n",
    "    print (\"Total Cost\",Quantity*100)\n"
   ]
  },
  {
   "cell_type": "markdown",
   "metadata": {},
   "source": [
    "11) A school has following rules for grading system:\n",
    "\n",
    "a. Below 25 - F\n",
    "\n",
    "b. 25 to 45 - E\n",
    "\n",
    "c. 45 to 50 - D\n",
    "\n",
    "d. 50 to 60 - C\n",
    "\n",
    "e. 60 to 80 - B\n",
    "\n",
    "f. Above 80 - A\n",
    "\n",
    "Ask user to enter marks and print the corresponding grade."
   ]
  },
  {
   "cell_type": "code",
   "execution_count": 4,
   "metadata": {},
   "outputs": [
    {
     "name": "stdout",
     "output_type": "stream",
     "text": [
      "Enter your marks: 60\n",
      "You got a C\n"
     ]
    }
   ],
   "source": [
    "Marks = int(input(\"Enter your marks: \"))\n",
    "\n",
    "if Marks<25:\n",
    "    print(\"You got an F\")\n",
    "elif 25<=Marks<=45:\n",
    "    print(\"You got an E\")\n",
    "elif 45<=Marks<=50:\n",
    "    print(\"You got a D\")\n",
    "elif 50<=Marks<=60:\n",
    "    print(\"You got a C\")\n",
    "elif 60<=Marks<=80:\n",
    "    print(\"You got a B\")\n",
    "\n",
    "else:\n",
    "    print(\"You got A\")\n",
    "            "
   ]
  },
  {
   "cell_type": "markdown",
   "metadata": {},
   "source": [
    "12. A student will not be allowed to sit in exam if his/her attendence is less than 75%.\n",
    "\n",
    "Take following input from user\n",
    "\n",
    "Number of classes held\n",
    "\n",
    "Number of classes attended.\n",
    "\n",
    "And print\n",
    "\n",
    "percentage of class attended\n",
    "\n",
    "Is student is allowed to sit in exam or not.\n"
   ]
  },
  {
   "cell_type": "code",
   "execution_count": 3,
   "metadata": {},
   "outputs": [
    {
     "name": "stdout",
     "output_type": "stream",
     "text": [
      "Number of class Held:10\n",
      "Number of Class Attended:2\n",
      "Student is allowed to sit\n"
     ]
    }
   ],
   "source": [
    "Classes = int(input(\"Number of class Held:\"))\n",
    "Attended = int(input(\"Number of Class Attended:\"))\n",
    "Percentage = (Classes/Attended)*100\n",
    "\n",
    "if Percentage>=75:\n",
    "    print(\"Student is allowed to sit\")\n",
    "\n",
    "else:\n",
    "    print(\"Sorry Student is not allowed\")"
   ]
  },
  {
   "cell_type": "markdown",
   "metadata": {},
   "source": [
    "13) Modify the above question to allow student to sit if he/she has medical cause. Ask user if he/she has medical cause or not ( 'Y' or 'N' ) and print accordingly."
   ]
  },
  {
   "cell_type": "code",
   "execution_count": 7,
   "metadata": {},
   "outputs": [
    {
     "name": "stdout",
     "output_type": "stream",
     "text": [
      "DO You have Medical Cause,(Y/N)?N\n",
      "you are not allowed to sit\n"
     ]
    }
   ],
   "source": [
    "Medical = (input(\"DO You have Medical Cause,(Y/N)?\"))\n",
    "\n",
    "if Medical==\"Y\":\n",
    "    print(\"you are allow to sit\")\n",
    "    \n",
    "else:\n",
    "    print(\"you are not allowed to sit\")"
   ]
  },
  {
   "cell_type": "markdown",
   "metadata": {},
   "source": [
    "14) Write a program to check if a year is leap year or not.\n",
    "\n",
    "If a year is divisible by 4 then it is leap year but if the year is century year like 2000, 1900, 2100 then it must be divisible by 400."
   ]
  },
  {
   "cell_type": "code",
   "execution_count": 2,
   "metadata": {},
   "outputs": [
    {
     "name": "stdout",
     "output_type": "stream",
     "text": [
      "Enter the year:12\n",
      "12 is a leap year\n"
     ]
    }
   ],
   "source": [
    "Year = int(input(\"Enter the year:\"))\n",
    "\n",
    "if Year%4==0:\n",
    "    print(f\"{Year} is a leap year\")\n",
    "else:\n",
    "    print(f\"{Year} is not a leap year.\")"
   ]
  },
  {
   "cell_type": "markdown",
   "metadata": {},
   "source": [
    "15. Write a program to calculate the electricity bill (accept number of unit from user) according to the following criteria : Unit Price\n",
    "uptp 100 units no charge Next 200 units Rs 5 per unit After 200 units Rs 10 per unit (For example if input unit is 350 than total bill amount is Rs.3500 (For example if input unit is 97 than total bill amount is Rs.0 (For example if input unit is 150 than total bill amount is Rs.750"
   ]
  },
  {
   "cell_type": "code",
   "execution_count": 12,
   "metadata": {},
   "outputs": [
    {
     "name": "stdout",
     "output_type": "stream",
     "text": [
      "Enter the number of units consumed: 100\n",
      "No charge.\n"
     ]
    }
   ],
   "source": [
    "electricity_units = float(input(\"Enter the number of units consumed: \"))\n",
    "\n",
    "if electricity_units<=100:\n",
    "    print(\"No charge.\")\n",
    "elif 100<electricity_units<=300:\n",
    "    print(electricity_units*5)\n",
    "elif electricity_units>300:\n",
    "    print(electricity_units*10)"
   ]
  },
  {
   "cell_type": "markdown",
   "metadata": {},
   "source": [
    "16. Ask user to enter age, gender ( M or F ), marital status ( Y or N ) and then using following rules print their place of service.\n",
    "\n",
    "if employee is female, then she will work only in urban areas.\n",
    "\n",
    "if employee is a male and age is in between 20 to 40 then he may work in anywhere\n",
    "\n",
    "if employee is male and age is in between 40 t0 60 then he will work in urban areas only.\n",
    "\n",
    "And any other input of age should print \"ERROR\""
   ]
  },
  {
   "cell_type": "code",
   "execution_count": 11,
   "metadata": {},
   "outputs": [
    {
     "name": "stdout",
     "output_type": "stream",
     "text": [
      "Enter your age:20\n",
      "Enter your gender (M or F):m\n",
      "What is your martial status (Y/N):y\n",
      "ERROR\n"
     ]
    }
   ],
   "source": [
    "age = int(input(\"Enter your age:\"))\n",
    "gender = input(\"Enter your gender (M or F):\")\n",
    "martial_status = input(\"What is your martial status (Y/N):\")\n",
    "\n",
    "if gender==\"F\":\n",
    "    print(\"You will only work in urban areas.\")\n",
    "elif gender==\"M\":\n",
    "    if 20<=age<=40:\n",
    "        print(\"You can work anywhere.\")\n",
    "    elif 40<=age<=60:\n",
    "        print(\"You will only work in urban areas.\")\n",
    "else:\n",
    "    print(\"ERROR\")"
   ]
  },
  {
   "cell_type": "markdown",
   "metadata": {},
   "source": [
    "17) Take input of age of 3 people by user and determine oldest and youngest among them."
   ]
  },
  {
   "cell_type": "code",
   "execution_count": 8,
   "metadata": {},
   "outputs": [
    {
     "name": "stdout",
     "output_type": "stream",
     "text": [
      "Enter first age: 15\n",
      "Enter second age: 13\n",
      "Enter third age: 12\n",
      "15\n"
     ]
    }
   ],
   "source": [
    "age1 = int(input(\"Enter first age: \"))\n",
    "age2 = int(input(\"Enter second age: \"))\n",
    "age3 = int(input(\"Enter third age: \"))\n",
    "\n",
    "if age1>age2>age3:\n",
    "    print(age1)\n",
    "elif age2>age1>age3:\n",
    "    print(age2)\n",
    "else:\n",
    "    print(age3)"
   ]
  }
 ],
 "metadata": {
  "kernelspec": {
   "display_name": "Python 3 (ipykernel)",
   "language": "python",
   "name": "python3"
  },
  "language_info": {
   "codemirror_mode": {
    "name": "ipython",
    "version": 3
   },
   "file_extension": ".py",
   "mimetype": "text/x-python",
   "name": "python",
   "nbconvert_exporter": "python",
   "pygments_lexer": "ipython3",
   "version": "3.11.5"
  }
 },
 "nbformat": 4,
 "nbformat_minor": 2
}
