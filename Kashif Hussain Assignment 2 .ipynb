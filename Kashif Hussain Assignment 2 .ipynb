{
 "cells": [
  {
   "cell_type": "markdown",
   "id": "fe3dd5a9",
   "metadata": {},
   "source": [
    "Scenario 1: Grocery Shopping List \n",
    "\n",
    "You are creating a program to manage a grocery shopping list.\n",
    "\n",
    "Users should be able to add items, remove items, and display the current list."
   ]
  },
  {
   "cell_type": "code",
   "execution_count": 1,
   "id": "a6bc3cfe",
   "metadata": {},
   "outputs": [
    {
     "name": "stdout",
     "output_type": "stream",
     "text": [
      "Enter your items (Use ''Comma'' after each item): Mango,Orange,Apple\n",
      "Do you want to delete any item(s) from the list (Y/N): N\n",
      "Grocery Shopping List:\n",
      "['Mango', 'Orange', 'Apple']\n"
     ]
    }
   ],
   "source": [
    "Shopping_list = []\n",
    "\n",
    "User = input(\"Enter your items (Use ''Comma'' after each item): \").split(',')\n",
    "\n",
    "for item in User:\n",
    "    Shopping_list.append(item)\n",
    "    \n",
    "Assure = input(\"Do you want to delete any item(s) from the list (Y/N): \")\n",
    "\n",
    "print(\"Grocery Shopping List:\")\n",
    "\n",
    "if Assure == 'Y':\n",
    "    delete = input(\"Enter the item to remove it from the grocery list: \")\n",
    "\n",
    "    if delete in Shopping_list:\n",
    "        Shopping_list.remove(delete)\n",
    "    \n",
    "    else:\n",
    "        print(f\"{delete} is not in the list.\")\n",
    "else:\n",
    "    print(Shopping_list)"
   ]
  },
  {
   "cell_type": "markdown",
   "id": "4350b997",
   "metadata": {},
   "source": [
    "Scenario 2: Student Grades  \n",
    "\n",
    "You are managing student grades using a dictionary. You need to calculate the average grade.take \n",
    "atleast 5 Students grades & then calculate the average. "
   ]
  },
  {
   "cell_type": "code",
   "execution_count": 2,
   "id": "700f0e3f",
   "metadata": {},
   "outputs": [
    {
     "name": "stdout",
     "output_type": "stream",
     "text": [
      "Student Grades:\n",
      "Ahmed: 95\n",
      "Shoaib: 99\n",
      "Abdul Samad: 76\n",
      "Saad: 96\n",
      "Shumail: 60\n",
      "\n",
      "Total Grade: 426\n",
      "Number of Student: 5\n",
      "Average Grade: 85.2\n"
     ]
    }
   ],
   "source": [
    "student_grades = {\n",
    "    \"Ahmed\": 95,\n",
    "    \"Shoaib\": 99,\n",
    "    \"Abdul Samad\": 76,\n",
    "    \"Saad\": 96,\n",
    "    \"Shumail\": 60\n",
    "}\n",
    "\n",
    "total_grades = sum(student_grades.values())\n",
    "\n",
    "average_grade = total_grades / len(student_grades)\n",
    "\n",
    "print(\"Student Grades:\")\n",
    "for student, grade in student_grades.items():\n",
    "    print(f\"{student}: {grade}\")\n",
    "\n",
    "\n",
    "print(f\"\\nTotal Grade: {total_grades}\")\n",
    "print(f\"Number of Student: {len(student_grades)}\")\n",
    "print(f\"Average Grade: {average_grade}\")"
   ]
  },
  {
   "cell_type": "markdown",
   "id": "40c6e19c",
   "metadata": {},
   "source": [
    "Scenario 3: Word Frequency Counter \n",
    "    \n",
    "You are given a list of words, and you need to count the frequency of each word. \n",
    "word_list = [\"apple\", \"banana\", \"apple\", \"orange\", \"banana\", \"grape\", \"apple\"] "
   ]
  },
  {
   "cell_type": "code",
   "execution_count": 3,
   "id": "d00c47ac",
   "metadata": {},
   "outputs": [
    {
     "name": "stdout",
     "output_type": "stream",
     "text": [
      "Word Frequencies:\n",
      "apple: 3\n",
      "banana: 2\n",
      "orange: 1\n",
      "grape: 1\n"
     ]
    }
   ],
   "source": [
    "word_list = [\"apple\", \"banana\", \"apple\", \"orange\", \"banana\", \"grape\", \"apple\",]\n",
    "\n",
    "word_freq = {}\n",
    "\n",
    "for word in word_list:\n",
    "    if word in word_freq:\n",
    "        word_freq[word] += 1\n",
    "    else:\n",
    "        word_freq[word] = 1\n",
    "\n",
    "print(\"Word Frequencies:\")\n",
    "for word, freq in word_freq.items():\n",
    "    print(f\"{word}: {freq}\")"
   ]
  },
  {
   "cell_type": "markdown",
   "id": "caf5037a",
   "metadata": {},
   "source": [
    "Scenario 4: Password Strength Checker \n",
    "\n",
    "You are creating a program to check the strength of passwords based on certain criteria. \n",
    "\n",
    "• Password should be at least 8 characters long. \n",
    "\n",
    "• Password should contain at least one digit. \n",
    "\n",
    "• Password should contain at least one letter."
   ]
  },
  {
   "cell_type": "code",
   "execution_count": 6,
   "id": "8a0e949e",
   "metadata": {},
   "outputs": [
    {
     "name": "stdout",
     "output_type": "stream",
     "text": [
      "Create your Password: 123456asdb\n",
      "Password meets the criteria.\n"
     ]
    }
   ],
   "source": [
    "Password = input(\"Create your Password: \")\n",
    "\n",
    "if len(Password) >= 8:\n",
    "    if not Password.isdigit():\n",
    "        if not Password.isalpha():\n",
    "            print(\"Password meets the criteria.\")\n",
    "        else:\n",
    "            print(\"Password should contain at least one digit.\")\n",
    "    else:\n",
    "        print(\"Password should contain at least one letter.\")\n",
    "else:\n",
    "    print(\"Password should be at least 8 characters long.\")"
   ]
  },
  {
   "cell_type": "markdown",
   "id": "f1a69c99",
   "metadata": {},
   "source": [
    "Scenario 04: Voting System (Annual Employee Recognition Awards) \n",
    "\n",
    "You are developing a simple voting system for a contest. Users can vote for their Favorite option, and \n",
    "you need to count the votes. A\n",
    "In a corporate setting, the HR department is organizing the Annual Employee Recognition Awards, \n",
    "where employees get the opportunity to vote for their colleagues nominated in different categories. \n",
    "The HR team has decided to use a simple voting system to collect and tally votes for the nominees in \n",
    "various award categories. The script provided will be utilized for this purpose. \n",
    "Candidates: The nominees for different award categories, such as \"Employee of the Year,\" \"Team \n",
    "Player of the Year,\" and \"Innovation Award,\" are represented by the list of candidates: 'Candidate A,' \n",
    "'Candidate B,' and 'Candidate C.' \n",
    "Voting Process: Employees are requested to input the number of voters participating in the awards. \n",
    "Each voter is presented with a list of nominees, and they can vote for their preferred candidate by \n",
    "entering the corresponding number. \n",
    "Validation: The script ensures that the entered vote is within the valid range of candidates. If an \n",
    "employee enters an invalid vote, the system prompts them to choose a valid candidate. \n",
    "Recording Votes: The script records each vote for the selected candidate and prints a confirmation \n",
    "message indicating that the vote has been recorded."
   ]
  },
  {
   "cell_type": "code",
   "execution_count": 7,
   "id": "8332a8be",
   "metadata": {},
   "outputs": [
    {
     "name": "stdout",
     "output_type": "stream",
     "text": [
      "Welcome to the Annual Employee Recognition Awards Voting System!\n",
      "\n",
      "Enter the number of voters participating: 3\n",
      "\n",
      "List of Candidates:\n",
      "1. Candidate A\n",
      "2. Candidate B\n",
      "3. Candidate C\n",
      "\n",
      "Enter the number of your preferred candidate: 1\n",
      "Your vote has been recorded.\n",
      "\n",
      "List of Candidates:\n",
      "1. Candidate A\n",
      "2. Candidate B\n",
      "3. Candidate C\n",
      "\n",
      "Enter the number of your preferred candidate: 1\n",
      "Your vote has been recorded.\n",
      "\n",
      "List of Candidates:\n",
      "1. Candidate A\n",
      "2. Candidate B\n",
      "3. Candidate C\n",
      "\n",
      "Enter the number of your preferred candidate: 1\n",
      "Your vote has been recorded.\n",
      "\n",
      "Voting Results:\n",
      "Candidate A: 3 votes\n",
      "Candidate B: 0 votes\n",
      "Candidate C: 0 votes\n"
     ]
    }
   ],
   "source": [
    "candidates = ['Candidate A', 'Candidate B', 'Candidate C']\n",
    "votes = {candidate: 0 for candidate in candidates}\n",
    "\n",
    "print(\"Welcome to the Annual Employee Recognition Awards Voting System!\\n\")\n",
    "\n",
    "try:\n",
    "    voter_count = int(input(\"Enter the number of voters participating: \"))\n",
    "except ValueError:\n",
    "    print(\"Invalid input! Please enter a valid number.\")\n",
    "    exit()\n",
    "\n",
    "for _ in range(voter_count):\n",
    "    print(\"\\nList of Candidates:\")\n",
    "    for index, candidate in enumerate(candidates, start=1):\n",
    "        print(f\"{index}. {candidate}\")\n",
    "\n",
    "    while True:\n",
    "        try:\n",
    "            choice = int(input(\"\\nEnter the number of your preferred candidate: \"))\n",
    "            if 1 <= choice <= len(candidates):\n",
    "                votes[candidates[choice - 1]] += 1\n",
    "                print(\"Your vote has been recorded.\")\n",
    "                break\n",
    "            else:\n",
    "                print(\"Invalid choice! Please enter a number within the valid range.\")\n",
    "        except ValueError:\n",
    "            print(\"Invalid input! Please enter a valid number.\")\n",
    "\n",
    "        \n",
    "print(\"\\nVoting Results:\")\n",
    "for candidate, vote_count in votes.items():\n",
    "    print(f\"{candidate}: {vote_count} votes\")\n"
   ]
  },
  {
   "cell_type": "code",
   "execution_count": null,
   "id": "9061bd28",
   "metadata": {},
   "outputs": [],
   "source": []
  }
 ],
 "metadata": {
  "kernelspec": {
   "display_name": "Python 3 (ipykernel)",
   "language": "python",
   "name": "python3"
  },
  "language_info": {
   "codemirror_mode": {
    "name": "ipython",
    "version": 3
   },
   "file_extension": ".py",
   "mimetype": "text/x-python",
   "name": "python",
   "nbconvert_exporter": "python",
   "pygments_lexer": "ipython3",
   "version": "3.11.5"
  }
 },
 "nbformat": 4,
 "nbformat_minor": 5
}
